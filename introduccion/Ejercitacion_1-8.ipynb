{
 "cells": [
  {
   "cell_type": "code",
   "execution_count": 1,
   "metadata": {},
   "outputs": [],
   "source": [
    "# Use black formatter\n",
    "# %load_ext lab_black"
   ]
  },
  {
   "cell_type": "markdown",
   "metadata": {},
   "source": [
    "Guia \n",
    "https://github.com/FIUBA-Posgrado-Inteligencia-Artificial/ia_introduccion/blob/master/Ejercicios/clase_1/Ejercitaci%C3%B3n_Clase1.ipynb"
   ]
  },
  {
   "cell_type": "markdown",
   "metadata": {},
   "source": [
    "#### Ejercicio 1"
   ]
  },
  {
   "cell_type": "code",
   "execution_count": 2,
   "metadata": {},
   "outputs": [],
   "source": [
    "from datetime import date\n",
    "\n",
    "name = input(\"Cual es tu nombre?\")\n",
    "age = int(input(\"Cual es tu edad?\"))\n",
    "\n",
    "today = date.today()\n",
    "print(name, \"cumplirias 100 años en\", 100 - age + today.year)"
   ]
  },
  {
   "cell_type": "markdown",
   "metadata": {},
   "source": [
    "#### Ejercicio 2"
   ]
  },
  {
   "cell_type": "code",
   "execution_count": 9,
   "metadata": {},
   "outputs": [
    {
     "name": "stdout",
     "output_type": "stream",
     "text": [
      "Lista completa [52, 10, 2, 3, 6, 7, -2, 5, 8]\n",
      "Lista filtrada [2, 3, 6, -2, 5]\n"
     ]
    }
   ],
   "source": [
    "threshold = int(input(\"Ingrese un valor de umbral\"))\n",
    "\n",
    "full_list = [52, 10, 2, 3, 6, 7, -2, 5, 8]\n",
    "filtered_list = [i for i in full_list if i < threshold]\n",
    "\n",
    "print(\"Lista completa\", full_list)\n",
    "print(\"Lista filtrada\", filtered_list)"
   ]
  },
  {
   "cell_type": "markdown",
   "metadata": {},
   "source": [
    "#### Ejercicio 3"
   ]
  },
  {
   "cell_type": "code",
   "execution_count": 13,
   "metadata": {},
   "outputs": [
    {
     "name": "stdout",
     "output_type": "stream",
     "text": [
      "a [1, 1, 2, 3, 5, 8, 13, 21, 34, 55, 89]\n",
      "b [1, 2, 3, 4, 5, 6, 7, 8, 9, 10, 11, 12, 13]\n",
      "Interseccion [1, 2, 3, 5, 8, 13]\n"
     ]
    }
   ],
   "source": [
    "a = [1, 1, 2, 3, 5, 8, 13, 21, 34, 55, 89]\n",
    "b = [1, 2, 3, 4, 5, 6, 7, 8, 9, 10, 11, 12, 13]\n",
    "\n",
    "set_a = set(a)\n",
    "intersection = list(set_a.intersection(b))\n",
    "\n",
    "print(\"a\", a)\n",
    "print(\"b\", b)\n",
    "print(\"Interseccion\", intersection)"
   ]
  },
  {
   "cell_type": "markdown",
   "metadata": {},
   "source": [
    "#### Ejercicio 4"
   ]
  },
  {
   "cell_type": "code",
   "execution_count": 36,
   "metadata": {},
   "outputs": [
    {
     "name": "stdout",
     "output_type": "stream",
     "text": [
      "{1: 10, 2: 20, 3: 30, 4: 40, 5: 50}\n"
     ]
    }
   ],
   "source": [
    "dict1 = {1: 10, 2: 20, 3: 30}\n",
    "dict2 = {3: 30, 4: 40}\n",
    "dict3 = {5: 50}\n",
    "\n",
    "final_dict = {**dict1, **dict2, **dict3}\n",
    "\n",
    "print(final_dict)"
   ]
  },
  {
   "cell_type": "markdown",
   "metadata": {},
   "source": [
    "#### Ejercicio 5"
   ]
  },
  {
   "cell_type": "code",
   "execution_count": 25,
   "metadata": {},
   "outputs": [
    {
     "name": "stdout",
     "output_type": "stream",
     "text": [
      "1: 10\n",
      "2: 20\n",
      "3: 30\n",
      "4: 40\n",
      "5: 50\n"
     ]
    }
   ],
   "source": [
    "for k, v in final_dict.items():\n",
    "    print(f\"{k}: {v}\")"
   ]
  },
  {
   "cell_type": "markdown",
   "metadata": {},
   "source": [
    "#### Ejercicio 6"
   ]
  },
  {
   "cell_type": "code",
   "execution_count": 35,
   "metadata": {},
   "outputs": [
    {
     "name": "stdout",
     "output_type": "stream",
     "text": [
      "{'a': 3, 'b': 5, 'c': 11, 'd': 3}\n"
     ]
    }
   ],
   "source": [
    "dict1 = {\"a\": 1, \"b\": 5, \"c\": 10}\n",
    "dict2 = {\"a\": 2, \"c\": 1, \"d\": 3}\n",
    "final_dict = {}\n",
    "\n",
    "for k, v in dict1.items():\n",
    "    if dict2.get(k):\n",
    "        final_dict[k] = v + dict2[k]\n",
    "    else:\n",
    "        final_dict[k] = v\n",
    "\n",
    "for k, v in dict2.items():\n",
    "    if k not in final_dict:\n",
    "        final_dict[k] = v\n",
    "\n",
    "print(final_dict)"
   ]
  },
  {
   "cell_type": "markdown",
   "metadata": {},
   "source": [
    "#### Ejercicio 7"
   ]
  },
  {
   "cell_type": "code",
   "execution_count": null,
   "metadata": {},
   "outputs": [],
   "source": []
  },
  {
   "cell_type": "markdown",
   "metadata": {},
   "source": [
    "#### Ejercicio 8"
   ]
  },
  {
   "cell_type": "code",
   "execution_count": null,
   "metadata": {},
   "outputs": [],
   "source": []
  }
 ],
 "metadata": {
  "kernelspec": {
   "display_name": "Python 3 (ipykernel)",
   "language": "python",
   "name": "python3"
  },
  "language_info": {
   "codemirror_mode": {
    "name": "ipython",
    "version": 3
   },
   "file_extension": ".py",
   "mimetype": "text/x-python",
   "name": "python",
   "nbconvert_exporter": "python",
   "pygments_lexer": "ipython3",
   "version": "3.8.10"
  },
  "orig_nbformat": 4
 },
 "nbformat": 4,
 "nbformat_minor": 2
}
