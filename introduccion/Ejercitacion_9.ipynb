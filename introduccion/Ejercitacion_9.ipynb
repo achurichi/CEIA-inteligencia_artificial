{
 "cells": [
  {
   "cell_type": "code",
   "execution_count": 2,
   "metadata": {},
   "outputs": [
    {
     "name": "stdout",
     "output_type": "stream",
     "text": [
      "The lab_black extension is already loaded. To reload it, use:\n",
      "  %reload_ext lab_black\n"
     ]
    }
   ],
   "source": [
    "# Use black formatter\n",
    "# %load_ext lab_black"
   ]
  },
  {
   "cell_type": "markdown",
   "metadata": {},
   "source": [
    "Guia \n",
    "https://github.com/FIUBA-Posgrado-Inteligencia-Artificial/ia_introduccion/blob/master/Ejercicios/clase_1/Ejercitaci%C3%B3n_Clase1.ipynb"
   ]
  },
  {
   "cell_type": "markdown",
   "metadata": {},
   "source": [
    "#### Ejercicio 9"
   ]
  },
  {
   "cell_type": "code",
   "execution_count": 3,
   "metadata": {},
   "outputs": [],
   "source": [
    "MENSAJE_ERROR = \"ERROR: Fondos insuficientes\"\n",
    "\n",
    "\n",
    "class Categoria:\n",
    "    def __init__(self, nombre):\n",
    "        self.balance = 0\n",
    "        self.contabilidad = []\n",
    "        self.nombre = nombre\n",
    "        self.total_depositos = 0\n",
    "        self.total_extracciones = 0\n",
    "\n",
    "    def __str__(self):\n",
    "        resumen = self.nombre.center(30, \"*\") + \"\\n\"\n",
    "        for item in self.contabilidad:\n",
    "            descripcion = item.get(\"descripcion\", \"\")[:20].ljust(20)\n",
    "            cantidad = item.get(\"cantidad\", 0)\n",
    "            resumen += f\"{descripcion} {cantidad}\\n\"\n",
    "        resumen += f\"Total: {self.balance}\"\n",
    "        return resumen\n",
    "\n",
    "    def deposito(self, cantidad, descripcion=\"\"):\n",
    "        self.balance += cantidad\n",
    "        self.total_depositos += cantidad\n",
    "        self.contabilidad.append({\"cantidad\": cantidad, \"descripcion\": descripcion})\n",
    "\n",
    "    def extraccion(self, cantidad, descripcion=\"\"):\n",
    "        if not self.verificar_fondos(cantidad):\n",
    "            print(MENSAJE_ERROR)\n",
    "            return False\n",
    "        self.balance -= cantidad\n",
    "        self.total_extracciones += cantidad\n",
    "        self.contabilidad.append(\n",
    "            {\"cantidad\": -1 * cantidad, \"descripcion\": descripcion}\n",
    "        )\n",
    "        return True\n",
    "\n",
    "    def obtener_balance(self):\n",
    "        return self.balance\n",
    "\n",
    "    def transferencia(self, monto, categoria_destino):\n",
    "        if self.verificar_fondos(monto):\n",
    "            self.extraccion(monto, \"Transf. a Categoría destino\")\n",
    "            categoria_destino.deposito(monto, \"Transf. de Categoría destino\")\n",
    "            return True\n",
    "        print(MENSAJE_ERROR)\n",
    "        return False\n",
    "\n",
    "    def verificar_fondos(self, monto):\n",
    "        if self.balance >= monto:\n",
    "            return True\n",
    "        return False"
   ]
  },
  {
   "cell_type": "code",
   "execution_count": 4,
   "metadata": {},
   "outputs": [
    {
     "name": "stdout",
     "output_type": "stream",
     "text": [
      "**********Alimentos***********\n",
      "deposito con una des 200.25\n",
      "extraccion           -25\n",
      "Transf. a Categoría  -25\n",
      "Total: 150.25\n",
      "\n",
      "**********Vestimenta**********\n",
      "Transf. de Categoría 25\n",
      "                     -25\n",
      "Total: 0\n",
      "\n",
      "*************Auto*************\n",
      "                     100\n",
      "                     -25\n",
      "Total: 75\n"
     ]
    }
   ],
   "source": [
    "alimentos = Categoria(\"Alimentos\")\n",
    "auto = Categoria(\"Auto\")\n",
    "vestimenta = Categoria(\"Vestimenta\")\n",
    "\n",
    "alimentos.deposito(200.25, \"deposito con una descripcion muy larga\")\n",
    "alimentos.extraccion(25, \"extraccion\")\n",
    "alimentos.transferencia(25, vestimenta)\n",
    "\n",
    "auto.deposito(100)\n",
    "auto.extraccion(25)\n",
    "\n",
    "vestimenta.extraccion(25)\n",
    "\n",
    "print(alimentos)\n",
    "print()\n",
    "print(vestimenta)\n",
    "print()\n",
    "print(auto)"
   ]
  },
  {
   "cell_type": "code",
   "execution_count": 7,
   "metadata": {},
   "outputs": [
    {
     "name": "stdout",
     "output_type": "stream",
     "text": [
      "Porcentaje usado por categoría\n",
      "100|          \n",
      " 90|          \n",
      " 80|          \n",
      " 70|          \n",
      " 60|          \n",
      " 50| o        \n",
      " 40| o        \n",
      " 30| o        \n",
      " 20| o  o  o  \n",
      " 10| o  o  o  \n",
      "  0| o  o  o  \n",
      "    ---------\n",
      "     A  V  A  \n",
      "     l  e  u  \n",
      "     i  s  t  \n",
      "     m  t  o  \n",
      "     e  i     \n",
      "     n  m     \n",
      "     t  e     \n",
      "     o  n     \n",
      "     s  t     \n",
      "        a     \n",
      "\n"
     ]
    }
   ],
   "source": [
    "categorias = [alimentos, vestimenta, auto]\n",
    "\n",
    "\n",
    "def crear_tabla_gastos(categorias):\n",
    "    result = \"Porcentaje usado por categoría\\n\"\n",
    "    total_extracciones = sum([cat.total_extracciones for cat in categorias])\n",
    "    longitud_categorias = len(categorias)\n",
    "\n",
    "    for i in range(100, -1, -10):\n",
    "        result += f\"{str(i).rjust(3)}| \"\n",
    "        for idx, categoria in enumerate(categorias):\n",
    "            porcentaje = categoria.total_extracciones / total_extracciones * 100\n",
    "            result += \"o  \" if porcentaje >= i else \" \" * 3\n",
    "            if idx + 1 == longitud_categorias:\n",
    "                result += \"\\n\"\n",
    "\n",
    "    result += \" \" * 4 + \"-\" * 3 * longitud_categorias + \"\\n\"\n",
    "\n",
    "    nombre_categorias = [cat.nombre for cat in categorias]\n",
    "    longitud_nombre_categorias = [len(nombre) for nombre in nombre_categorias]\n",
    "\n",
    "    for i in range(max(longitud_nombre_categorias)):\n",
    "        result += \" \" * 5\n",
    "        for idx, nombre in enumerate(nombre_categorias):\n",
    "            if i < longitud_nombre_categorias[idx]:\n",
    "                result += nombre[i] + \" \" * 2\n",
    "            else:\n",
    "                result += \" \" * 3\n",
    "            if idx + 1 == longitud_categorias:\n",
    "                result += \"\\n\"\n",
    "\n",
    "    return result\n",
    "\n",
    "\n",
    "print(crear_tabla_gastos(categorias))"
   ]
  }
 ],
 "metadata": {
  "kernelspec": {
   "display_name": "Python 3 (ipykernel)",
   "language": "python",
   "name": "python3"
  }
 },
 "nbformat": 4,
 "nbformat_minor": 2
}
