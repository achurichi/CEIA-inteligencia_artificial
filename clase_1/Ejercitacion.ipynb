{
 "cells": [
  {
   "cell_type": "code",
   "execution_count": 1,
   "metadata": {},
   "outputs": [],
   "source": [
    "# Use black formatter\n",
    "# %load_ext lab_black\n",
    "\n",
    "import numpy as np\n",
    "import random\n",
    "from sklearn import datasets\n",
    "from matplotlib import pyplot as plt"
   ]
  },
  {
   "cell_type": "markdown",
   "metadata": {},
   "source": [
    "#### Ejecicio #1:    Operaciones Matriciales\n",
    "Dada una matriz en formato numpy array, donde cada fila de la matriz representa un vector matemático: \n",
    "* Computar las normas l0, l1, l2, l-infinito\n",
    "    * l0: número de elementos diferentes a cero en el vector\n",
    "    * l1-l2: \n",
    "    ![](https://latex.codecogs.com/svg.latex?%7B%5Ccolor%7BOrange%7D%20%5Cleft%20%5C%7C%20x%20%5Cright%20%5C%7C_%7Bp%7D%20%3D%20%5Cleft%20%28%20%5Csum_%7B1%7D%5E%7Bn%7D%20%5Cleft%20%7C%20x_%7Bi%7D%20%5Cright%20%7C%5Ep%20%5Cright%20%29%5E%7B%5Ctfrac%7B1%7D%7Bp%7D%7D%7D)\n",
    "    * l-infinito:\n",
    "     ![](https://latex.codecogs.com/svg.latex?%7B%5Ccolor%7BOrange%7D%20%5Cleft%20%5C%7C%20x%20%5Cright%20%5C%7C_%7B%5Cinfty%7D%20%3D%20max_%7Bi%7D%20%5Cleft%20%7C%20x_%7Bi%7D%20%5Cright%20%7C%7D)"
   ]
  },
  {
   "cell_type": "code",
   "execution_count": 2,
   "metadata": {},
   "outputs": [
    {
     "name": "stdout",
     "output_type": "stream",
     "text": [
      "l0: [2 2 1]\n",
      "l1: [ 3. 10.  7.]\n",
      "l2: [2.23606798 7.21110255 7.        ]\n",
      "l-inf: [2 6 7]\n"
     ]
    }
   ],
   "source": [
    "def calculate_l0(mat):\n",
    "    \"\"\"\n",
    "    Calculate the LO of a matrix\n",
    "    \"\"\"\n",
    "    return np.sum(np.where(mat != 0, 1, 0), axis=1)\n",
    "\n",
    "\n",
    "def calculate_l(mat, p):\n",
    "    \"\"\"\n",
    "    Calculate the Lp of a matrix\n",
    "    \"\"\"\n",
    "    return np.sum(np.abs(mat) ** p, axis=1) ** (1 / p)\n",
    "\n",
    "\n",
    "def calculate_l_inf(mat):\n",
    "    \"\"\"\n",
    "    Calculate the L-infinity of a matrix\n",
    "    \"\"\"\n",
    "    return np.max(np.abs(mat), axis=1)\n",
    "\n",
    "\n",
    "test_mat = np.array([[1, -2, 0], [4, 0, -6], [7, 0, 0]])\n",
    "print(\"l0:\", calculate_l0(test_mat))\n",
    "print(\"l1:\", calculate_l(test_mat, 1))\n",
    "print(\"l2:\", calculate_l(test_mat, 2))\n",
    "print(\"l-inf:\", calculate_l_inf(test_mat))"
   ]
  },
  {
   "cell_type": "markdown",
   "metadata": {},
   "source": [
    "#### Ejecicio #2:    Sorting\n",
    "Dada una matriz en formato numpy array, donde cada fila de la matriz representa un vector matemático, se requiere computar la norma l2 de cada vector.\n",
    "Una vez obtenida la norma, se debe ordenar las mísmas de mayor a menor. Finalmente, obtener la matriz original ordenada por fila según la norma l2.\n",
    "\n",
    "_Todas las operaciones debe ser vectorizadas._"
   ]
  },
  {
   "cell_type": "code",
   "execution_count": 3,
   "metadata": {},
   "outputs": [
    {
     "name": "stdout",
     "output_type": "stream",
     "text": [
      "Matrix:\n",
      " [[ 11 -12   0]\n",
      " [  4   0  -8]\n",
      " [ 14   0   1]\n",
      " [  5  -2 -11]]\n",
      "L2 values:\n",
      " [16.2788206   8.94427191 14.03566885 12.24744871]\n",
      "Sorted Matrix:\n",
      " [[ 11 -12   0]\n",
      " [ 14   0   1]\n",
      " [  5  -2 -11]\n",
      " [  4   0  -8]]\n"
     ]
    }
   ],
   "source": [
    "mat = np.array([[11, -12, 0], [4, 0, -8], [14, 0, 1], [5, -2, -11]])\n",
    "\n",
    "mat_l2 = calculate_l(mat, 2)\n",
    "sorted_indices = np.argsort(mat_l2)[::-1]\n",
    "sorted_mat = mat[sorted_indices]\n",
    "\n",
    "print(\"Matrix:\\n\", mat)\n",
    "print(\"L2 values:\\n\", mat_l2)\n",
    "print(\"Sorted Matrix:\\n\", sorted_mat)"
   ]
  },
  {
   "cell_type": "markdown",
   "metadata": {},
   "source": [
    "#### Ejecicio #3:    Indexing\n",
    "El objetivo es construir un índice para identificadores de usuarios, es decir _id2idx_ e _idx2id_.\n",
    "Para ello crear una clase, donde el índice se genere en el constructor. Armar métodos _get_users_id_ y _get_users_idx_.\n",
    "\n",
    "* Identificadores de usuarios : users_id = [15, 12, 14, 10, 1, 2, 1]\n",
    "* Índice de usuarios : users_id = [0, 1, 2, 3, 4, 5, 4]\n",
    "```\n",
    "id2idx =  [-1   4   5  -1  -1  -1  -1  -1  -1  -1   3  -1   1  -1   2   0]\n",
    "          [ 0   1   2   3   4   5   6   7   8   9  10  11  12  13  14  15]\n",
    "\n",
    "id2idx[15] -> 0 ; id2idx[12] -> 1 ; id2idx[3] -> -1\n",
    "idx2id[0] -> 15 ; idx2id[4] -> 1\n",
    "```"
   ]
  },
  {
   "cell_type": "code",
   "execution_count": 4,
   "metadata": {},
   "outputs": [
    {
     "name": "stdout",
     "output_type": "stream",
     "text": [
      "Users IDs: [-1, 4, 5, -1, -1, -1, -1, -1, -1, -1, 3, -1, 1, -1, 2, 0]\n",
      "Users Indices: [0, 1, 2, 3, 4, 5, 6, 7, 8, 9, 10, 11, 12, 13, 14, 15]\n"
     ]
    }
   ],
   "source": [
    "class User:\n",
    "    index_count = 0\n",
    "\n",
    "    def __init__(self, id):\n",
    "        self.id = id\n",
    "        self.index = User.index_count\n",
    "        User.index_count += 1\n",
    "\n",
    "    def get_id(self):\n",
    "        return self.id\n",
    "\n",
    "    def get_index(self):\n",
    "        return self.index\n",
    "\n",
    "\n",
    "class Users:\n",
    "    def __init__(self, users_ids):\n",
    "        self.set_users(users_ids)\n",
    "\n",
    "    def set_users(self, users_ids):\n",
    "        self.users = [User(id) for id in users_ids]\n",
    "\n",
    "    def get_users_id(self):\n",
    "        return [user.get_id() for user in self.users]\n",
    "\n",
    "    def get_users_index(self):\n",
    "        return [user.get_index() for user in self.users]\n",
    "\n",
    "\n",
    "users_ids = [-1, 4, 5, -1, -1, -1, -1, -1, -1, -1, 3, -1, 1, -1, 2, 0]\n",
    "users = Users(users_ids)\n",
    "\n",
    "print(\"Users IDs:\", users.get_users_id())\n",
    "print(\"Users Indices:\", users.get_users_index())"
   ]
  },
  {
   "cell_type": "markdown",
   "metadata": {},
   "source": [
    "#### Ejecicio #4:    Precision, Recall, Accuracy\n",
    "En los problemas de clasificación, se cuenta con dos arreglos, la **verdad** (ground truth) y la **predicción** (prediction). \n",
    "Cada elemento de los arreglos puede tomar dos valores: _True_ (representado por 1) y _False_ (representado por 0). \n",
    "Por lo tanto, se pueden definir cuatro variables:\n",
    "* True Positive (TP): la verdad es 1 y la predicción es 1.\n",
    "* True Negative (TN): la verdad es 0 y la predicción es 0.\n",
    "* False Negative (FN): la verdad es 1 y la predicción es 0.\n",
    "* False Positive (FP): la verdad es 0 y la predicción es 1.\n",
    "\n",
    "A partir de esas cuatro variables, se definen las siguientes métricas:\n",
    "* Precision = TP / (TP + FP)\n",
    "* Recall = TP / (TP + FN)\n",
    "* Accuracy = (TP + TN) / (TP + TN + FP + FN)\n",
    "\n",
    "Para los siguientes arreglos, representando la **verdad** y la **predicción**,\n",
    "calcular las métricas anteriores con operaciones vectorizadas en NumPy.\n",
    "* truth = [1,1,0,1,1,1,0,0,0,1]\n",
    "* prediction = [1,1,1,1,0,0,1,1,0,0]"
   ]
  },
  {
   "cell_type": "code",
   "execution_count": 5,
   "metadata": {},
   "outputs": [
    {
     "name": "stdout",
     "output_type": "stream",
     "text": [
      "Tr: [[1 1 0 1 1 1 0 0 0 1]]\n",
      "Pr: [[1 1 1 1 0 0 1 1 0 0]]\n",
      "\n",
      "TP: [[1 1 0 1 0 0 0 0 0 0]]\n",
      "TN: [[0 0 0 0 0 0 0 0 1 0]]\n",
      "FN: [[0 0 0 0 1 1 0 0 0 1]]\n",
      "FP: [[0 0 1 0 0 0 1 1 0 0]]\n",
      "\n",
      "Precision: 0.5\n",
      "Recall: 0.5\n",
      "Accuracy: 0.4\n"
     ]
    }
   ],
   "source": [
    "def var_calculator(truth, pred, variable):\n",
    "    \"\"\"\n",
    "    Calculate TP, TN, FN or FP of an array\n",
    "    \"\"\"\n",
    "    options = {\n",
    "        \"TP\": [truth, pred],\n",
    "        \"TN\": [np.logical_not(truth), np.logical_not(pred)],\n",
    "        \"FN\": [truth, np.logical_not(pred)],\n",
    "        \"FP\": [np.logical_not(truth), pred],\n",
    "    }\n",
    "\n",
    "    processed_truth, processed_pred = options[variable]\n",
    "    return np.where(np.logical_and(processed_truth, processed_pred), 1, 0)\n",
    "\n",
    "\n",
    "TP = lambda truth, pred: var_calculator(truth, pred, \"TP\")\n",
    "TN = lambda truth, pred: var_calculator(truth, pred, \"TN\")\n",
    "FN = lambda truth, pred: var_calculator(truth, pred, \"FN\")\n",
    "FP = lambda truth, pred: var_calculator(truth, pred, \"FP\")\n",
    "\n",
    "\n",
    "def precision(truth, pred):\n",
    "    \"\"\"\n",
    "    Calculate the precision of an array\n",
    "    \"\"\"\n",
    "    tp = np.sum(TP(truth, pred))\n",
    "    fp = np.sum(FP(truth, pred))\n",
    "    return tp / (tp + fp)\n",
    "\n",
    "\n",
    "def recall(truth, pred):\n",
    "    \"\"\"\n",
    "    Calculate the recall of an array\n",
    "    \"\"\"\n",
    "    tp = np.sum(TP(truth, pred))\n",
    "    fn = np.sum(FN(truth, pred))\n",
    "    return tp / (tp + fn)\n",
    "\n",
    "\n",
    "def accuracy(truth, pred):\n",
    "    \"\"\"\n",
    "    Calculate the accuracy of an array\n",
    "    \"\"\"\n",
    "    tp = np.sum(TP(truth, pred))\n",
    "    tn = np.sum(TN(truth, pred))\n",
    "    fp = np.sum(FP(truth, pred))\n",
    "    fn = np.sum(FN(truth, pred))\n",
    "    return (tp + tn) / (tp + tn + fn + fp)\n",
    "\n",
    "\n",
    "truth = np.array([[1, 1, 0, 1, 1, 1, 0, 0, 0, 1]])\n",
    "prediction = np.array([[1, 1, 1, 1, 0, 0, 1, 1, 0, 0]])\n",
    "\n",
    "print(\"Tr:\", truth)\n",
    "print(\"Pr:\", prediction)\n",
    "print()\n",
    "print(\"TP:\", TP(truth, prediction))\n",
    "print(\"TN:\", TN(truth, prediction))\n",
    "print(\"FN:\", FN(truth, prediction))\n",
    "print(\"FP:\", FP(truth, prediction))\n",
    "print()\n",
    "print(\"Precision:\", precision(truth, prediction))\n",
    "print(\"Recall:\", recall(truth, prediction))\n",
    "print(\"Accuracy:\", accuracy(truth, prediction))"
   ]
  },
  {
   "cell_type": "markdown",
   "metadata": {},
   "source": [
    "#### Ejecicio #5:    Average Query Precision\n",
    "En information retrieval o search engines, en general contamos con queries “q” y para cada “q” una lista de documentos que son verdaderamente relevantes. \n",
    "Para evaluar un search engine, es común utilizar la métrica **average query precision**.\n",
    "Tomando de referencia el siguiente ejemplo, calcular la métrica con NumPy utilizando operaciones vectorizadas.\n",
    "```\n",
    "q_id =             [1, 1, 1, 1, 2, 2, 2, 3, 3, 3, 3, 3, 4, 4, 4, 4]\n",
    "predicted_rank =   [0, 1, 2, 3, 0, 1, 2, 0, 1, 2, 3, 4, 0, 1, 2, 3]\n",
    "truth_relevance =  [T, F, T, F, T, T, T, F, F, F, F, F, T, F, F, T] \n",
    "```\n",
    "* Precision para q_id 1 = 2 / 4\n",
    "* Precision para q_id 2 = 3 / 3\n",
    "* Precision para q_id 3 = 0 / 5\n",
    "* Precision para q_id 4 = 2 / 4\n",
    "\n",
    "**_average query precision_** = ((2/4) + (3/3) + (0/5) + (2/4)) / 4"
   ]
  },
  {
   "cell_type": "code",
   "execution_count": 6,
   "metadata": {},
   "outputs": [
    {
     "data": {
      "text/plain": [
       "0.49999999999999994"
      ]
     },
     "execution_count": 6,
     "metadata": {},
     "output_type": "execute_result"
    }
   ],
   "source": [
    "q_id = np.array([[1, 1, 1, 1, 2, 2, 2, 3, 3, 3, 3, 3, 4, 4, 4, 4]])\n",
    "predicted_rank = np.array([[0, 1, 2, 3, 0, 1, 2, 0, 1, 2, 3, 4, 0, 1, 2, 3]])\n",
    "truth_relevance =  np.array([[True, False, True, False, True, True, True, False, False, False, False, False, True, False, False, True]])  # fmt: skip\n",
    "\n",
    "\n",
    "def average_query_precision(q_id, predicted_rank, truth_relevance):\n",
    "    \"\"\"\n",
    "    Calculate the average query precision of an array\n",
    "    \"\"\"\n",
    "    # Get number of results for each query\n",
    "    start = np.where(predicted_rank == 0)[1]\n",
    "    counts = np.append(start[1:], predicted_rank.size) - start\n",
    "\n",
    "    # Create a map from each query id to the number of results\n",
    "    mapper_dict = {i + 1: value for i, value in enumerate(counts)}\n",
    "    calc_den = np.vectorize(lambda entry: mapper_dict.get(entry, entry))\n",
    "\n",
    "    # Calculate the average query precision using the formula\n",
    "    return np.sum(truth_relevance / calc_den(q_id)) / start.size\n",
    "\n",
    "\n",
    "average_query_precision(q_id, predicted_rank, truth_relevance)"
   ]
  },
  {
   "cell_type": "markdown",
   "metadata": {},
   "source": [
    "#### Ejecicio #6:    Distancia a Centroides\n",
    "Dada una nube de puntos _X_ y centroides _C_, obtener la distancia entre\n",
    "cada vector _X_ y los centroides utilizando operaciones vectorizadas y broadcasting en NumPy.\n",
    "Utilizar como referencia los siguientes valores:\n",
    "```\n",
    "X = [[1, 2, 3], [4, 5, 6], [7, 8, 9]]\n",
    "C = [[1, 0, 0], [0, 1, 1]]   \n",
    "```"
   ]
  },
  {
   "cell_type": "code",
   "execution_count": 7,
   "metadata": {},
   "outputs": [
    {
     "data": {
      "text/plain": [
       "array([[ 3.60555128,  2.44948974],\n",
       "       [ 8.36660027,  7.54983444],\n",
       "       [13.45362405, 12.72792206]])"
      ]
     },
     "execution_count": 7,
     "metadata": {},
     "output_type": "execute_result"
    }
   ],
   "source": [
    "X = np.array([[1, 2, 3], [4, 5, 6], [7, 8, 9]])\n",
    "C = np.array([[1, 0, 0], [0, 1, 1]])\n",
    "\n",
    "\n",
    "def calculate_distance(X, C):\n",
    "    \"\"\"\n",
    "    Calculate the distance between each row of X and each row of C\n",
    "    \"\"\"\n",
    "    C_rows, C_cols = C.shape\n",
    "    return np.sqrt(np.sum((X - C.reshape(C_rows, 1, C_cols)) ** 2, axis=2)).T\n",
    "\n",
    "\n",
    "calculate_distance(X, C)"
   ]
  },
  {
   "cell_type": "markdown",
   "metadata": {},
   "source": [
    "#### Ejecicio #7:    Etiquetar Cluster\n",
    "Obtener para cada fila en _X_, el índice de la fila en _C_ con distancia euclídea más pequeña. \n",
    "Es decir, para cada fila en _X_, determinar a qué cluster pertenece en C.\n",
    "_Hint_: usar np.argmin."
   ]
  },
  {
   "cell_type": "code",
   "execution_count": 8,
   "metadata": {},
   "outputs": [
    {
     "data": {
      "text/plain": [
       "array([1, 1, 1])"
      ]
     },
     "execution_count": 8,
     "metadata": {},
     "output_type": "execute_result"
    }
   ],
   "source": [
    "np.argmin(calculate_distance(X, C), axis=1)"
   ]
  },
  {
   "cell_type": "markdown",
   "metadata": {},
   "source": [
    "#### Ejercicio #8:   Implementación Básica de K-means\n",
    "K-means es uno de los algoritmos más básicos en Machine Learning no supervisado.\n",
    "Es un algoritmo de clusterización, que agrupa datos que comparten características similares.\n",
    "Recordemos que entendemos datos como _n_ realizaciones del vector aleatorio _X_.\n",
    "\n",
    "El algoritmo funciona de la siguiente manera:\n",
    "1. El usuario selecciona la cantidad de clusters a crear _n_.\n",
    "2. Se seleccionan _n_ elementos aleatorios de _X_ como posiciones iniciales del los centroides _C_.\n",
    "3. Se calcula la distancia entre todos los puntos en _X_ y todos los puntos en _C_.\n",
    "4. Para cada punto en _X_ se selecciona el centroide más cercano de _C_.\n",
    "5. Se recalculan los centroides _C_ a partir de usar las filas de _X_ que pertenecen a cada centroide. \n",
    "6. Se itera entre 3 y 5 una cantidad fija de veces o hasta que la posición de los centroides no cambie dada una tolerancia.\n",
    "\n",
    "Se debe por lo tanto implementar la función k_means(X, n) de manera tal que, al finalizar, devuelva la posición de los centroides\n",
    "y a qué cluster pertenece cada fila de _X_. \n",
    "\n",
    "_Hint_: para (2) utilizar funciones de np.random, para (3) y (4) usar los ejercicios anteriores, \n",
    "para (5) es válido utilizar un for. Iterar 10 veces entre (3) y (5).  "
   ]
  },
  {
   "cell_type": "code",
   "execution_count": 9,
   "metadata": {},
   "outputs": [],
   "source": [
    "NUM_X = 100\n",
    "NUM_ITERATIONS = 10\n",
    "POINTS_RANGE = [0, 10]\n",
    "\n",
    "\n",
    "def k_means(X, n):\n",
    "    \"\"\"\n",
    "    K-means algorithm\n",
    "    \"\"\"\n",
    "    # Select n elements as centroids\n",
    "    rand_indices = [random.randint(0, NUM_X - 1) for _ in range(n)]\n",
    "    C = X[rand_indices]\n",
    "    clusters_indices = []\n",
    "\n",
    "    # Iterate NUM_ITERATIONS times\n",
    "    for _ in range(NUM_ITERATIONS):\n",
    "        # Calculate distances between points and centroids\n",
    "        distances = calculate_distance(X, C)\n",
    "\n",
    "        # Get the index of the closest centroid for each point\n",
    "        clusters_indices = np.argmin(distances, axis=1)\n",
    "\n",
    "        # Calculate the new centroids\n",
    "        for i in range(n):\n",
    "            clusters_indices_i = np.where(clusters_indices == i)[0]\n",
    "            C[i] = np.mean(X[clusters_indices_i], axis=0)\n",
    "\n",
    "    return C, clusters_indices\n",
    "\n",
    "\n",
    "# Ask user for num_clusters or use a fixed value\n",
    "# num_clusters = int(input(\"Number of clusters: \"))\n",
    "num_clusters = 3\n",
    "\n",
    "# Generate uniform points or points related to clusters\n",
    "# X = np.random.uniform(low=POINTS_RANGE[0], high=POINTS_RANGE[1], size=(NUM_X, 2))\n",
    "X = datasets.make_blobs(\n",
    "    n_samples=NUM_X,\n",
    "    n_features=2,\n",
    "    center_box=(POINTS_RANGE[0], POINTS_RANGE[1]),\n",
    ")[0]\n",
    "\n",
    "C, clusters_indices = k_means(X, num_clusters)"
   ]
  },
  {
   "cell_type": "code",
   "execution_count": 10,
   "metadata": {},
   "outputs": [
    {
     "data": {
      "image/png": "[encoded data removed]",
      "text/plain": [
       "<Figure size 720x720 with 1 Axes>"
      ]
     },
     "metadata": {
      "needs_background": "light"
     },
     "output_type": "display_data"
    }
   ],
   "source": [
    "colors = [\n",
    "    \"red\",\n",
    "    \"green\",\n",
    "    \"blue\",\n",
    "    \"purple\",\n",
    "    \"black\",\n",
    "    \"orange\",\n",
    "    \"pink\",\n",
    "    \"brown\",\n",
    "    \"gray\",\n",
    "    \"yellow\",\n",
    "]\n",
    "indices = lambda i: np.where(clusters_indices == i)[0]\n",
    "\n",
    "plt.figure(figsize=(10, 10))\n",
    "\n",
    "for i in range(num_clusters):\n",
    "    plt.scatter(X[indices(i), 0], X[indices(i), 1], c=colors[i])\n",
    "    plt.scatter(C[i, 0], C[i, 1], c=colors[i], marker=\"x\", s=200)\n",
    "\n",
    "plt.show()"
   ]
  },
  {
   "cell_type": "markdown",
   "metadata": {},
   "source": [
    "#### Ejercicio #9:   Computar Métricas con \\_\\_call__\n",
    "En problemas de machine learning, es muy común que para cada predicción que obtenemos en nuestro dataset de verificacion y evaluacion, almacenemos en arreglos de numpy el resultado de dicha predicción, junto con el valor verdadero y parámetros auxiliares (como el ranking de la predicción y el query id). \n",
    "\n",
    "Luego de obtener todas las predicciones, podemos utilizar la información almacenada en los arreglos de numpy, para calcular todas las métricas que queremos medir en nuestro sistema. \n",
    "\n",
    "Una buena práctica para implementar esto en Python, es crear clases que hereden de una clase Metric “base” y que cada métrica implemente el método \\_\\_call__.\n",
    "\n",
    "Utilizar herencia, operador \\_\\_call__ y _kwargs_, para escribir un programa que permita calcular todas las métricas de los ejercicios anteriores mediante un for."
   ]
  },
  {
   "cell_type": "code",
   "execution_count": 11,
   "metadata": {},
   "outputs": [
    {
     "name": "stdout",
     "output_type": "stream",
     "text": [
      "Precision 0.5\n",
      "Recall 0.5\n",
      "Accuracy 0.4\n",
      "Average Query Precision 0.49999999999999994\n"
     ]
    }
   ],
   "source": [
    "class Metric:\n",
    "    \"\"\"\n",
    "    Abstract class for metrics\n",
    "    \"\"\"\n",
    "\n",
    "    def __init__(self, name):\n",
    "        self.name = name\n",
    "\n",
    "    def __call__(self):\n",
    "        raise NotImplementedError(\"__call__ method not implemented\")\n",
    "\n",
    "\n",
    "class Precision(Metric):\n",
    "    \"\"\"\n",
    "    Precision metric\n",
    "    \"\"\"\n",
    "\n",
    "    def __init__(self):\n",
    "        super().__init__(\"Precision\")\n",
    "\n",
    "    def __call__(self, **kwargs):\n",
    "        return precision(kwargs[\"pred\"], kwargs[\"truth\"])\n",
    "\n",
    "\n",
    "class Recall(Metric):\n",
    "    \"\"\"\n",
    "    Recall metric\n",
    "    \"\"\"\n",
    "\n",
    "    def __init__(self):\n",
    "        super().__init__(\"Recall\")\n",
    "\n",
    "    def __call__(self, **kwargs):\n",
    "        return recall(kwargs[\"pred\"], kwargs[\"truth\"])\n",
    "\n",
    "\n",
    "class Accuracy(Metric):\n",
    "    \"\"\"\n",
    "    Accuracy metric\n",
    "    \"\"\"\n",
    "\n",
    "    def __init__(self):\n",
    "        super().__init__(\"Accuracy\")\n",
    "\n",
    "    def __call__(self, **kwargs):\n",
    "        return accuracy(kwargs[\"pred\"], kwargs[\"truth\"])\n",
    "\n",
    "\n",
    "class AverageQueryPrecision(Metric):\n",
    "    \"\"\"\n",
    "    Average Query Precision metric\n",
    "    \"\"\"\n",
    "\n",
    "    def __init__(self):\n",
    "        super().__init__(\"Average Query Precision\")\n",
    "\n",
    "    def __call__(self, **kwargs):\n",
    "        return average_query_precision(kwargs[\"q_id\"], kwargs[\"pred\"], kwargs[\"truth\"])\n",
    "\n",
    "\n",
    "metrics = [Precision(), Recall(), Accuracy(), AverageQueryPrecision()]\n",
    "truth = np.array([[1, 1, 0, 1, 1, 1, 0, 0, 0, 1]])\n",
    "pred = np.array([[1, 1, 1, 1, 0, 0, 1, 1, 0, 0]])\n",
    "\n",
    "for i, metric in enumerate(metrics):\n",
    "    if (\n",
    "        i == 3\n",
    "    ):  # required because AverageQueryPrecision uses different type of parameters\n",
    "        q_id = np.array([[1, 1, 1, 1, 2, 2, 2, 3, 3, 3, 3, 3, 4, 4, 4, 4]])\n",
    "        predicted_rank = np.array([[0, 1, 2, 3, 0, 1, 2, 0, 1, 2, 3, 4, 0, 1, 2, 3]])\n",
    "        truth_relevance =  np.array([[True, False, True, False, True, True, True, False, False, False, False, False, True, False, False, True]])  # fmt: skip\n",
    "        print(\n",
    "            metric.name, metric(pred=predicted_rank, truth=truth_relevance, q_id=q_id)\n",
    "        )\n",
    "    else:\n",
    "        print(metric.name, metric(pred=prediction, truth=truth))"
   ]
  },
  {
   "cell_type": "markdown",
   "metadata": {},
   "source": [
    "\n",
    "#### Ejercicio #10:   Dataset a NumPy Estructurado - Patrón de Diseño Singleton (opcional)\n",
    "Para éste ejercicio vamos a descargar un dataset de Kaggle. Es recomendable que se creen una cuenta porque es un lugar de donde potencialmente vamos a descargar muchos recursos.\n",
    "\n",
    "Pueden descargar el dataset desde [aquí](https://www.kaggle.com/rounakbanik/the-movies-dataset/data?select=ratings.csv).\n",
    "\n",
    "El objetivo del ejercicio es crear una clase que permita realizar las siguientes funciones sobre el dataset:\n",
    "* Crear la estructura de un structured numpy array para el dataset.\n",
    "* Leer el csv, almacenar la información en el array estructurado.\n",
    "* Guardar el array estructurado en formato .pkl.\n",
    "* Crear una instancia singleton del array estructurado (utilizando \\_\\_new__ e \\_\\_init__).\n",
    "* Al crear la instancia, si se encuentra el .pkl cargar desde el pkl. Si el .pkl no está, comenzar por transformar el .csv en .pkl y luego levantar la información.\n",
    "* Encontrar una forma de optimizar la operación usando generators [opcional].\n",
    " "
   ]
  },
  {
   "cell_type": "code",
   "execution_count": null,
   "metadata": {},
   "outputs": [],
   "source": []
  }
 ],
 "metadata": {
  "kernelspec": {
   "display_name": "Python 3 (ipykernel)",
   "language": "python",
   "name": "python3"
  },
  "language_info": {
   "codemirror_mode": {
    "name": "ipython",
    "version": 3
   },
   "file_extension": ".py",
   "mimetype": "text/x-python",
   "name": "python",
   "nbconvert_exporter": "python",
   "pygments_lexer": "ipython3",
   "version": "3.8.10"
  }
 },
 "nbformat": 4,
 "nbformat_minor": 2
}
