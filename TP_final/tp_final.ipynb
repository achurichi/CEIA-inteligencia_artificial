{
 "cells": [
  {
   "cell_type": "code",
   "execution_count": 1,
   "metadata": {},
   "outputs": [],
   "source": [
    "# Use black formatter\n",
    "%load_ext lab_black\n",
    "\n",
    "import numpy as np\n",
    "import pandas as pd\n",
    "\n",
    "from sklearn.decomposition import PCA\n",
    "from sklearn.preprocessing import StandardScaler, PolynomialFeatures\n",
    "from sklearn.model_selection import train_test_split\n",
    "from sklearn.linear_model import LogisticRegression, LinearRegression\n",
    "from sklearn.metrics import (\n",
    "    accuracy_score,\n",
    "    mean_squared_error,\n",
    "    precision_score,\n",
    "    r2_score,\n",
    "    recall_score,\n",
    ")\n",
    "import matplotlib.pyplot as plt\n",
    "\n",
    "RANDOM_SEED = 123"
   ]
  },
  {
   "cell_type": "markdown",
   "metadata": {},
   "source": [
    "#### Carga y procesamiento de datos"
   ]
  },
  {
   "cell_type": "code",
   "execution_count": 2,
   "metadata": {},
   "outputs": [
    {
     "data": {
      "text/html": [
       "<div>\n",
       "<style scoped>\n",
       "    .dataframe tbody tr th:only-of-type {\n",
       "        vertical-align: middle;\n",
       "    }\n",
       "\n",
       "    .dataframe tbody tr th {\n",
       "        vertical-align: top;\n",
       "    }\n",
       "\n",
       "    .dataframe thead th {\n",
       "        text-align: right;\n",
       "    }\n",
       "</style>\n",
       "<table border=\"1\" class=\"dataframe\">\n",
       "  <thead>\n",
       "    <tr style=\"text-align: right;\">\n",
       "      <th></th>\n",
       "      <th>site</th>\n",
       "      <th>Pop</th>\n",
       "      <th>sex</th>\n",
       "      <th>age</th>\n",
       "      <th>hdlngth</th>\n",
       "      <th>skullw</th>\n",
       "      <th>totlngth</th>\n",
       "      <th>taill</th>\n",
       "      <th>footlgth</th>\n",
       "      <th>earconch</th>\n",
       "      <th>eye</th>\n",
       "      <th>chest</th>\n",
       "      <th>belly</th>\n",
       "    </tr>\n",
       "    <tr>\n",
       "      <th>case</th>\n",
       "      <th></th>\n",
       "      <th></th>\n",
       "      <th></th>\n",
       "      <th></th>\n",
       "      <th></th>\n",
       "      <th></th>\n",
       "      <th></th>\n",
       "      <th></th>\n",
       "      <th></th>\n",
       "      <th></th>\n",
       "      <th></th>\n",
       "      <th></th>\n",
       "      <th></th>\n",
       "    </tr>\n",
       "  </thead>\n",
       "  <tbody>\n",
       "    <tr>\n",
       "      <th>1</th>\n",
       "      <td>1</td>\n",
       "      <td>Vic</td>\n",
       "      <td>m</td>\n",
       "      <td>8.0</td>\n",
       "      <td>94.1</td>\n",
       "      <td>60.4</td>\n",
       "      <td>89.0</td>\n",
       "      <td>36.0</td>\n",
       "      <td>74.5</td>\n",
       "      <td>54.5</td>\n",
       "      <td>15.2</td>\n",
       "      <td>28.0</td>\n",
       "      <td>36.0</td>\n",
       "    </tr>\n",
       "    <tr>\n",
       "      <th>2</th>\n",
       "      <td>1</td>\n",
       "      <td>Vic</td>\n",
       "      <td>f</td>\n",
       "      <td>6.0</td>\n",
       "      <td>92.5</td>\n",
       "      <td>57.6</td>\n",
       "      <td>91.5</td>\n",
       "      <td>36.5</td>\n",
       "      <td>72.5</td>\n",
       "      <td>51.2</td>\n",
       "      <td>16.0</td>\n",
       "      <td>28.5</td>\n",
       "      <td>33.0</td>\n",
       "    </tr>\n",
       "    <tr>\n",
       "      <th>3</th>\n",
       "      <td>1</td>\n",
       "      <td>Vic</td>\n",
       "      <td>f</td>\n",
       "      <td>6.0</td>\n",
       "      <td>94.0</td>\n",
       "      <td>60.0</td>\n",
       "      <td>95.5</td>\n",
       "      <td>39.0</td>\n",
       "      <td>75.4</td>\n",
       "      <td>51.9</td>\n",
       "      <td>15.5</td>\n",
       "      <td>30.0</td>\n",
       "      <td>34.0</td>\n",
       "    </tr>\n",
       "    <tr>\n",
       "      <th>4</th>\n",
       "      <td>1</td>\n",
       "      <td>Vic</td>\n",
       "      <td>f</td>\n",
       "      <td>6.0</td>\n",
       "      <td>93.2</td>\n",
       "      <td>57.1</td>\n",
       "      <td>92.0</td>\n",
       "      <td>38.0</td>\n",
       "      <td>76.1</td>\n",
       "      <td>52.2</td>\n",
       "      <td>15.2</td>\n",
       "      <td>28.0</td>\n",
       "      <td>34.0</td>\n",
       "    </tr>\n",
       "    <tr>\n",
       "      <th>5</th>\n",
       "      <td>1</td>\n",
       "      <td>Vic</td>\n",
       "      <td>f</td>\n",
       "      <td>2.0</td>\n",
       "      <td>91.5</td>\n",
       "      <td>56.3</td>\n",
       "      <td>85.5</td>\n",
       "      <td>36.0</td>\n",
       "      <td>71.0</td>\n",
       "      <td>53.2</td>\n",
       "      <td>15.1</td>\n",
       "      <td>28.5</td>\n",
       "      <td>33.0</td>\n",
       "    </tr>\n",
       "    <tr>\n",
       "      <th>...</th>\n",
       "      <td>...</td>\n",
       "      <td>...</td>\n",
       "      <td>...</td>\n",
       "      <td>...</td>\n",
       "      <td>...</td>\n",
       "      <td>...</td>\n",
       "      <td>...</td>\n",
       "      <td>...</td>\n",
       "      <td>...</td>\n",
       "      <td>...</td>\n",
       "      <td>...</td>\n",
       "      <td>...</td>\n",
       "      <td>...</td>\n",
       "    </tr>\n",
       "    <tr>\n",
       "      <th>100</th>\n",
       "      <td>7</td>\n",
       "      <td>other</td>\n",
       "      <td>m</td>\n",
       "      <td>1.0</td>\n",
       "      <td>89.5</td>\n",
       "      <td>56.0</td>\n",
       "      <td>81.5</td>\n",
       "      <td>36.5</td>\n",
       "      <td>66.0</td>\n",
       "      <td>46.8</td>\n",
       "      <td>14.8</td>\n",
       "      <td>23.0</td>\n",
       "      <td>27.0</td>\n",
       "    </tr>\n",
       "    <tr>\n",
       "      <th>101</th>\n",
       "      <td>7</td>\n",
       "      <td>other</td>\n",
       "      <td>m</td>\n",
       "      <td>1.0</td>\n",
       "      <td>88.6</td>\n",
       "      <td>54.7</td>\n",
       "      <td>82.5</td>\n",
       "      <td>39.0</td>\n",
       "      <td>64.4</td>\n",
       "      <td>48.0</td>\n",
       "      <td>14.0</td>\n",
       "      <td>25.0</td>\n",
       "      <td>33.0</td>\n",
       "    </tr>\n",
       "    <tr>\n",
       "      <th>102</th>\n",
       "      <td>7</td>\n",
       "      <td>other</td>\n",
       "      <td>f</td>\n",
       "      <td>6.0</td>\n",
       "      <td>92.4</td>\n",
       "      <td>55.0</td>\n",
       "      <td>89.0</td>\n",
       "      <td>38.0</td>\n",
       "      <td>63.5</td>\n",
       "      <td>45.4</td>\n",
       "      <td>13.0</td>\n",
       "      <td>25.0</td>\n",
       "      <td>30.0</td>\n",
       "    </tr>\n",
       "    <tr>\n",
       "      <th>103</th>\n",
       "      <td>7</td>\n",
       "      <td>other</td>\n",
       "      <td>m</td>\n",
       "      <td>4.0</td>\n",
       "      <td>91.5</td>\n",
       "      <td>55.2</td>\n",
       "      <td>82.5</td>\n",
       "      <td>36.5</td>\n",
       "      <td>62.9</td>\n",
       "      <td>45.9</td>\n",
       "      <td>15.4</td>\n",
       "      <td>25.0</td>\n",
       "      <td>29.0</td>\n",
       "    </tr>\n",
       "    <tr>\n",
       "      <th>104</th>\n",
       "      <td>7</td>\n",
       "      <td>other</td>\n",
       "      <td>f</td>\n",
       "      <td>3.0</td>\n",
       "      <td>93.6</td>\n",
       "      <td>59.9</td>\n",
       "      <td>89.0</td>\n",
       "      <td>40.0</td>\n",
       "      <td>67.6</td>\n",
       "      <td>46.0</td>\n",
       "      <td>14.8</td>\n",
       "      <td>28.5</td>\n",
       "      <td>33.5</td>\n",
       "    </tr>\n",
       "  </tbody>\n",
       "</table>\n",
       "<p>104 rows × 13 columns</p>\n",
       "</div>"
      ],
      "text/plain": [
       "      site    Pop sex  age  hdlngth  skullw  totlngth  taill  footlgth  \\\n",
       "case                                                                     \n",
       "1        1    Vic   m  8.0     94.1    60.4      89.0   36.0      74.5   \n",
       "2        1    Vic   f  6.0     92.5    57.6      91.5   36.5      72.5   \n",
       "3        1    Vic   f  6.0     94.0    60.0      95.5   39.0      75.4   \n",
       "4        1    Vic   f  6.0     93.2    57.1      92.0   38.0      76.1   \n",
       "5        1    Vic   f  2.0     91.5    56.3      85.5   36.0      71.0   \n",
       "...    ...    ...  ..  ...      ...     ...       ...    ...       ...   \n",
       "100      7  other   m  1.0     89.5    56.0      81.5   36.5      66.0   \n",
       "101      7  other   m  1.0     88.6    54.7      82.5   39.0      64.4   \n",
       "102      7  other   f  6.0     92.4    55.0      89.0   38.0      63.5   \n",
       "103      7  other   m  4.0     91.5    55.2      82.5   36.5      62.9   \n",
       "104      7  other   f  3.0     93.6    59.9      89.0   40.0      67.6   \n",
       "\n",
       "      earconch   eye  chest  belly  \n",
       "case                                \n",
       "1         54.5  15.2   28.0   36.0  \n",
       "2         51.2  16.0   28.5   33.0  \n",
       "3         51.9  15.5   30.0   34.0  \n",
       "4         52.2  15.2   28.0   34.0  \n",
       "5         53.2  15.1   28.5   33.0  \n",
       "...        ...   ...    ...    ...  \n",
       "100       46.8  14.8   23.0   27.0  \n",
       "101       48.0  14.0   25.0   33.0  \n",
       "102       45.4  13.0   25.0   30.0  \n",
       "103       45.9  15.4   25.0   29.0  \n",
       "104       46.0  14.8   28.5   33.5  \n",
       "\n",
       "[104 rows x 13 columns]"
      ]
     },
     "execution_count": 2,
     "metadata": {},
     "output_type": "execute_result"
    }
   ],
   "source": [
    "FILE_PATH = \"/tf/notebooks/CEIA-inteligencia_artificial/TP_final/dataset/possum.csv\"\n",
    "\n",
    "original_df = pd.read_csv(FILE_PATH, index_col=0)\n",
    "df = original_df.copy()\n",
    "df"
   ]
  },
  {
   "cell_type": "markdown",
   "metadata": {},
   "source": [
    "Convertimos las columnas Pop y sex valores numericos 0 o 1 para poder trabajar con ellas. A continuación se muestra como se realizará el encoding.\n",
    "\n",
    "|  Columna   |    valor   |  Encoding  | \n",
    "| :--------: | :--------: | :--------: |\n",
    "| Pop        | Vic        | 1          |\n",
    "| Pop        | other      | 0          |\n",
    "| sex        | m          | 1          |\n",
    "| sex        | f          | 0          |"
   ]
  },
  {
   "cell_type": "code",
   "execution_count": 3,
   "metadata": {},
   "outputs": [
    {
     "data": {
      "text/html": [
       "<div>\n",
       "<style scoped>\n",
       "    .dataframe tbody tr th:only-of-type {\n",
       "        vertical-align: middle;\n",
       "    }\n",
       "\n",
       "    .dataframe tbody tr th {\n",
       "        vertical-align: top;\n",
       "    }\n",
       "\n",
       "    .dataframe thead th {\n",
       "        text-align: right;\n",
       "    }\n",
       "</style>\n",
       "<table border=\"1\" class=\"dataframe\">\n",
       "  <thead>\n",
       "    <tr style=\"text-align: right;\">\n",
       "      <th></th>\n",
       "      <th>site</th>\n",
       "      <th>age</th>\n",
       "      <th>hdlngth</th>\n",
       "      <th>skullw</th>\n",
       "      <th>totlngth</th>\n",
       "      <th>taill</th>\n",
       "      <th>footlgth</th>\n",
       "      <th>earconch</th>\n",
       "      <th>eye</th>\n",
       "      <th>chest</th>\n",
       "      <th>belly</th>\n",
       "      <th>vic</th>\n",
       "      <th>m</th>\n",
       "    </tr>\n",
       "    <tr>\n",
       "      <th>case</th>\n",
       "      <th></th>\n",
       "      <th></th>\n",
       "      <th></th>\n",
       "      <th></th>\n",
       "      <th></th>\n",
       "      <th></th>\n",
       "      <th></th>\n",
       "      <th></th>\n",
       "      <th></th>\n",
       "      <th></th>\n",
       "      <th></th>\n",
       "      <th></th>\n",
       "      <th></th>\n",
       "    </tr>\n",
       "  </thead>\n",
       "  <tbody>\n",
       "    <tr>\n",
       "      <th>1</th>\n",
       "      <td>1</td>\n",
       "      <td>8.0</td>\n",
       "      <td>94.1</td>\n",
       "      <td>60.4</td>\n",
       "      <td>89.0</td>\n",
       "      <td>36.0</td>\n",
       "      <td>74.5</td>\n",
       "      <td>54.5</td>\n",
       "      <td>15.2</td>\n",
       "      <td>28.0</td>\n",
       "      <td>36.0</td>\n",
       "      <td>1</td>\n",
       "      <td>1</td>\n",
       "    </tr>\n",
       "    <tr>\n",
       "      <th>2</th>\n",
       "      <td>1</td>\n",
       "      <td>6.0</td>\n",
       "      <td>92.5</td>\n",
       "      <td>57.6</td>\n",
       "      <td>91.5</td>\n",
       "      <td>36.5</td>\n",
       "      <td>72.5</td>\n",
       "      <td>51.2</td>\n",
       "      <td>16.0</td>\n",
       "      <td>28.5</td>\n",
       "      <td>33.0</td>\n",
       "      <td>1</td>\n",
       "      <td>0</td>\n",
       "    </tr>\n",
       "    <tr>\n",
       "      <th>3</th>\n",
       "      <td>1</td>\n",
       "      <td>6.0</td>\n",
       "      <td>94.0</td>\n",
       "      <td>60.0</td>\n",
       "      <td>95.5</td>\n",
       "      <td>39.0</td>\n",
       "      <td>75.4</td>\n",
       "      <td>51.9</td>\n",
       "      <td>15.5</td>\n",
       "      <td>30.0</td>\n",
       "      <td>34.0</td>\n",
       "      <td>1</td>\n",
       "      <td>0</td>\n",
       "    </tr>\n",
       "    <tr>\n",
       "      <th>4</th>\n",
       "      <td>1</td>\n",
       "      <td>6.0</td>\n",
       "      <td>93.2</td>\n",
       "      <td>57.1</td>\n",
       "      <td>92.0</td>\n",
       "      <td>38.0</td>\n",
       "      <td>76.1</td>\n",
       "      <td>52.2</td>\n",
       "      <td>15.2</td>\n",
       "      <td>28.0</td>\n",
       "      <td>34.0</td>\n",
       "      <td>1</td>\n",
       "      <td>0</td>\n",
       "    </tr>\n",
       "    <tr>\n",
       "      <th>5</th>\n",
       "      <td>1</td>\n",
       "      <td>2.0</td>\n",
       "      <td>91.5</td>\n",
       "      <td>56.3</td>\n",
       "      <td>85.5</td>\n",
       "      <td>36.0</td>\n",
       "      <td>71.0</td>\n",
       "      <td>53.2</td>\n",
       "      <td>15.1</td>\n",
       "      <td>28.5</td>\n",
       "      <td>33.0</td>\n",
       "      <td>1</td>\n",
       "      <td>0</td>\n",
       "    </tr>\n",
       "    <tr>\n",
       "      <th>...</th>\n",
       "      <td>...</td>\n",
       "      <td>...</td>\n",
       "      <td>...</td>\n",
       "      <td>...</td>\n",
       "      <td>...</td>\n",
       "      <td>...</td>\n",
       "      <td>...</td>\n",
       "      <td>...</td>\n",
       "      <td>...</td>\n",
       "      <td>...</td>\n",
       "      <td>...</td>\n",
       "      <td>...</td>\n",
       "      <td>...</td>\n",
       "    </tr>\n",
       "    <tr>\n",
       "      <th>100</th>\n",
       "      <td>7</td>\n",
       "      <td>1.0</td>\n",
       "      <td>89.5</td>\n",
       "      <td>56.0</td>\n",
       "      <td>81.5</td>\n",
       "      <td>36.5</td>\n",
       "      <td>66.0</td>\n",
       "      <td>46.8</td>\n",
       "      <td>14.8</td>\n",
       "      <td>23.0</td>\n",
       "      <td>27.0</td>\n",
       "      <td>0</td>\n",
       "      <td>1</td>\n",
       "    </tr>\n",
       "    <tr>\n",
       "      <th>101</th>\n",
       "      <td>7</td>\n",
       "      <td>1.0</td>\n",
       "      <td>88.6</td>\n",
       "      <td>54.7</td>\n",
       "      <td>82.5</td>\n",
       "      <td>39.0</td>\n",
       "      <td>64.4</td>\n",
       "      <td>48.0</td>\n",
       "      <td>14.0</td>\n",
       "      <td>25.0</td>\n",
       "      <td>33.0</td>\n",
       "      <td>0</td>\n",
       "      <td>1</td>\n",
       "    </tr>\n",
       "    <tr>\n",
       "      <th>102</th>\n",
       "      <td>7</td>\n",
       "      <td>6.0</td>\n",
       "      <td>92.4</td>\n",
       "      <td>55.0</td>\n",
       "      <td>89.0</td>\n",
       "      <td>38.0</td>\n",
       "      <td>63.5</td>\n",
       "      <td>45.4</td>\n",
       "      <td>13.0</td>\n",
       "      <td>25.0</td>\n",
       "      <td>30.0</td>\n",
       "      <td>0</td>\n",
       "      <td>0</td>\n",
       "    </tr>\n",
       "    <tr>\n",
       "      <th>103</th>\n",
       "      <td>7</td>\n",
       "      <td>4.0</td>\n",
       "      <td>91.5</td>\n",
       "      <td>55.2</td>\n",
       "      <td>82.5</td>\n",
       "      <td>36.5</td>\n",
       "      <td>62.9</td>\n",
       "      <td>45.9</td>\n",
       "      <td>15.4</td>\n",
       "      <td>25.0</td>\n",
       "      <td>29.0</td>\n",
       "      <td>0</td>\n",
       "      <td>1</td>\n",
       "    </tr>\n",
       "    <tr>\n",
       "      <th>104</th>\n",
       "      <td>7</td>\n",
       "      <td>3.0</td>\n",
       "      <td>93.6</td>\n",
       "      <td>59.9</td>\n",
       "      <td>89.0</td>\n",
       "      <td>40.0</td>\n",
       "      <td>67.6</td>\n",
       "      <td>46.0</td>\n",
       "      <td>14.8</td>\n",
       "      <td>28.5</td>\n",
       "      <td>33.5</td>\n",
       "      <td>0</td>\n",
       "      <td>0</td>\n",
       "    </tr>\n",
       "  </tbody>\n",
       "</table>\n",
       "<p>104 rows × 13 columns</p>\n",
       "</div>"
      ],
      "text/plain": [
       "      site  age  hdlngth  skullw  totlngth  taill  footlgth  earconch   eye  \\\n",
       "case                                                                          \n",
       "1        1  8.0     94.1    60.4      89.0   36.0      74.5      54.5  15.2   \n",
       "2        1  6.0     92.5    57.6      91.5   36.5      72.5      51.2  16.0   \n",
       "3        1  6.0     94.0    60.0      95.5   39.0      75.4      51.9  15.5   \n",
       "4        1  6.0     93.2    57.1      92.0   38.0      76.1      52.2  15.2   \n",
       "5        1  2.0     91.5    56.3      85.5   36.0      71.0      53.2  15.1   \n",
       "...    ...  ...      ...     ...       ...    ...       ...       ...   ...   \n",
       "100      7  1.0     89.5    56.0      81.5   36.5      66.0      46.8  14.8   \n",
       "101      7  1.0     88.6    54.7      82.5   39.0      64.4      48.0  14.0   \n",
       "102      7  6.0     92.4    55.0      89.0   38.0      63.5      45.4  13.0   \n",
       "103      7  4.0     91.5    55.2      82.5   36.5      62.9      45.9  15.4   \n",
       "104      7  3.0     93.6    59.9      89.0   40.0      67.6      46.0  14.8   \n",
       "\n",
       "      chest  belly  vic  m  \n",
       "case                        \n",
       "1      28.0   36.0    1  1  \n",
       "2      28.5   33.0    1  0  \n",
       "3      30.0   34.0    1  0  \n",
       "4      28.0   34.0    1  0  \n",
       "5      28.5   33.0    1  0  \n",
       "...     ...    ...  ... ..  \n",
       "100    23.0   27.0    0  1  \n",
       "101    25.0   33.0    0  1  \n",
       "102    25.0   30.0    0  0  \n",
       "103    25.0   29.0    0  1  \n",
       "104    28.5   33.5    0  0  \n",
       "\n",
       "[104 rows x 13 columns]"
      ]
     },
     "execution_count": 3,
     "metadata": {},
     "output_type": "execute_result"
    }
   ],
   "source": [
    "pop_binary = pd.get_dummies(df.Pop)\n",
    "pop_binary.pop(\"other\")\n",
    "pop_binary.columns = pop_binary.columns.str.lower()\n",
    "sex_binary = pd.get_dummies(df.sex)\n",
    "sex_binary.pop(\"f\")\n",
    "\n",
    "df = df.join([pop_binary, sex_binary])\n",
    "df.pop(\"Pop\")\n",
    "df.pop(\"sex\")\n",
    "df"
   ]
  },
  {
   "cell_type": "markdown",
   "metadata": {},
   "source": [
    "Chequeamos si hay observaciones con valor NaN."
   ]
  },
  {
   "cell_type": "code",
   "execution_count": 4,
   "metadata": {},
   "outputs": [
    {
     "data": {
      "text/plain": [
       "site        0\n",
       "age         2\n",
       "hdlngth     0\n",
       "skullw      0\n",
       "totlngth    0\n",
       "taill       0\n",
       "footlgth    1\n",
       "earconch    0\n",
       "eye         0\n",
       "chest       0\n",
       "belly       0\n",
       "vic         0\n",
       "m           0\n",
       "dtype: int64"
      ]
     },
     "execution_count": 4,
     "metadata": {},
     "output_type": "execute_result"
    }
   ],
   "source": [
    "df.isnull().sum()"
   ]
  },
  {
   "cell_type": "markdown",
   "metadata": {},
   "source": [
    "Como faltan algunos datos en la columna age, cuyos valores son números enteros, no seria buena idea completar con valores como por ejemplo la media, por eso se decide repetir el valor de la columna anterior. Esto se lleva a cabo utilizando el parámetro *method=\"pad\"* en la funcion *fillna*."
   ]
  },
  {
   "cell_type": "code",
   "execution_count": 5,
   "metadata": {},
   "outputs": [
    {
     "data": {
      "text/plain": [
       "site        0\n",
       "age         0\n",
       "hdlngth     0\n",
       "skullw      0\n",
       "totlngth    0\n",
       "taill       0\n",
       "footlgth    0\n",
       "earconch    0\n",
       "eye         0\n",
       "chest       0\n",
       "belly       0\n",
       "vic         0\n",
       "m           0\n",
       "dtype: int64"
      ]
     },
     "execution_count": 5,
     "metadata": {},
     "output_type": "execute_result"
    }
   ],
   "source": [
    "df.fillna(method=\"pad\", inplace=True)\n",
    "df.isnull().sum()"
   ]
  },
  {
   "cell_type": "markdown",
   "metadata": {},
   "source": [
    "### a)\n",
    "\n",
    "Es una buena práctica realizar primero la división del set de datos en conjuntos de train y test. De esta manera evitamos contaminar accidentalmente el conjunto de entrenamiento con información de test. Si esto sucediese posiblemente los resultados al evaluar el modelo en el set de test arrojarian valores superiores, pero al utilizarse el modelo en producción la performance sería menor.\n",
    "Debido a que hay 104 muestras una division 80/20 es un buen ratio para los sets de train y test."
   ]
  },
  {
   "cell_type": "code",
   "execution_count": 6,
   "metadata": {},
   "outputs": [],
   "source": [
    "X = df.drop(\"m\", axis=1).to_numpy()\n",
    "y = df[\"m\"].to_numpy()\n",
    "\n",
    "X_train, X_test, y_train, y_test = train_test_split(\n",
    "    X, y, test_size=0.2, random_state=RANDOM_SEED, stratify=y\n",
    ")"
   ]
  },
  {
   "cell_type": "markdown",
   "metadata": {},
   "source": [
    "Se normalizan los datos utilizando StandardScaler. Al tener features con valores de una misma magnitud se le hace más fácil al modelo encontrar una solución adecuada."
   ]
  },
  {
   "cell_type": "code",
   "execution_count": 7,
   "metadata": {},
   "outputs": [],
   "source": [
    "scaler = StandardScaler().fit(X_train)\n",
    "X_train_scaled = scaler.transform(X_train)"
   ]
  },
  {
   "cell_type": "markdown",
   "metadata": {},
   "source": [
    "#### Modelo 1: Regresión Logística\n",
    "\n",
    "Se aplica un modelo de regresión logística, entrenado con el conjunto de train. Se decidió utilizar este modelo porque es un problema supervisado, y solo hay dos clases de salida."
   ]
  },
  {
   "cell_type": "code",
   "execution_count": 8,
   "metadata": {},
   "outputs": [
    {
     "data": {
      "text/plain": [
       "LogisticRegression()"
      ]
     },
     "execution_count": 8,
     "metadata": {},
     "output_type": "execute_result"
    }
   ],
   "source": [
    "logistic_regression = LogisticRegression()\n",
    "logistic_regression.fit(X_train_scaled, y_train)"
   ]
  },
  {
   "cell_type": "markdown",
   "metadata": {},
   "source": [
    "Se calculan las métricas de Accuracy, Precision y Recall para el set de entrenamiento"
   ]
  },
  {
   "cell_type": "code",
   "execution_count": 9,
   "metadata": {},
   "outputs": [
    {
     "name": "stdout",
     "output_type": "stream",
     "text": [
      "Métricas de entrenamiento:\n",
      "Accuracy: 0.7710843373493976\n",
      "Precision: 0.7884615384615384\n",
      "Recall: 0.8367346938775511\n"
     ]
    }
   ],
   "source": [
    "def print_metrics(y_true, y_pred, metrics=None):\n",
    "    default_metrics = {\n",
    "        \"Accuracy\": accuracy_score,\n",
    "        \"Precision\": precision_score,\n",
    "        \"Recall\": recall_score,\n",
    "    }\n",
    "    if metrics is None:\n",
    "        metrics = default_metrics\n",
    "    for name, metric in metrics.items():\n",
    "        result = metric(y_true, y_pred)\n",
    "        print(f\"{name}: {result}\")\n",
    "\n",
    "\n",
    "print(\"Métricas de entrenamiento:\")\n",
    "print_metrics(y_train, logistic_regression.predict(X_train_scaled))"
   ]
  },
  {
   "cell_type": "markdown",
   "metadata": {},
   "source": [
    "Se calculan las mismas métricas para el set de test."
   ]
  },
  {
   "cell_type": "code",
   "execution_count": 10,
   "metadata": {},
   "outputs": [
    {
     "name": "stdout",
     "output_type": "stream",
     "text": [
      "Métricas de test:\n",
      "Accuracy: 0.6190476190476191\n",
      "Precision: 0.8333333333333334\n",
      "Recall: 0.4166666666666667\n",
      "\n",
      "Valores reales de y [0 0 0 0 1 0 0 1 1 0 1 1 1 0 1 1 1 0 1 1 1]\n",
      "Valores predichos [1 0 0 0 1 0 0 0 1 0 0 1 1 0 0 0 0 0 0 1 0]\n"
     ]
    }
   ],
   "source": [
    "X_test_scaled = scaler.transform(X_test)\n",
    "y_pred = logistic_regression.predict(X_test_scaled)\n",
    "\n",
    "print(\"Métricas de test:\")\n",
    "print_metrics(y_test, logistic_regression.predict(X_test_scaled))\n",
    "\n",
    "print(\"\\nValores reales de y\", y_test)\n",
    "print(\"Valores predichos\", y_pred)"
   ]
  },
  {
   "cell_type": "markdown",
   "metadata": {},
   "source": [
    "### b)\n",
    "\n",
    "En este caso tenemos un problema de regresión, por lo que se nos pide predecir una feature que toma valores continuos, totlngth.\n",
    "\n",
    "Lo primero que debemos hacer es la separación de los datos en conjuntos de entrenamiento y test."
   ]
  },
  {
   "cell_type": "code",
   "execution_count": 11,
   "metadata": {},
   "outputs": [],
   "source": [
    "X = df.drop(\"totlngth\", axis=1).to_numpy()\n",
    "y = df[\"totlngth\"].to_numpy()\n",
    "\n",
    "X_train, X_test, y_train, y_test = train_test_split(\n",
    "    X, y, test_size=0.2, random_state=RANDOM_SEED\n",
    ")"
   ]
  },
  {
   "cell_type": "markdown",
   "metadata": {},
   "source": [
    "#### Modelo 1: Regresión Lineal\n",
    "\n",
    "Utilizamos PCA para reducir la dimensionalidad de los datos. Esto es necesario para obtener una única feature, con la mayor varianza posible, para utilizar en el modelo de regresión lineal. "
   ]
  },
  {
   "cell_type": "code",
   "execution_count": 12,
   "metadata": {},
   "outputs": [
    {
     "name": "stdout",
     "output_type": "stream",
     "text": [
      "Se utiliza una componente de PCA, con una varianza de 0.4808074944030742\n"
     ]
    }
   ],
   "source": [
    "pca = PCA(n_components=1, random_state=RANDOM_SEED).fit(X_train)\n",
    "X_train_pca = pca.transform(X_train)\n",
    "print(\n",
    "    \"Se utiliza una componente de PCA, con una varianza de\",\n",
    "    pca.explained_variance_ratio_[0],\n",
    ")"
   ]
  },
  {
   "cell_type": "markdown",
   "metadata": {},
   "source": [
    "Graficamos los valores *X_train_pca* en función de *y_train*"
   ]
  },
  {
   "cell_type": "code",
   "execution_count": 13,
   "metadata": {},
   "outputs": [
    {
     "data": {
      "image/png": "[encoded data removed]",
      "text/plain": [
       "<Figure size 720x432 with 1 Axes>"
      ]
     },
     "metadata": {
      "needs_background": "light"
     },
     "output_type": "display_data"
    }
   ],
   "source": [
    "plt.figure(figsize=(10, 6))\n",
    "plt.scatter(X_train_pca, y_train)\n",
    "plt.xlabel(\"X Train PCA\")\n",
    "plt.ylabel(\"Y Train\")\n",
    "plt.ylim((0, 150))\n",
    "plt.show()"
   ]
  },
  {
   "cell_type": "markdown",
   "metadata": {},
   "source": [
    "Los datos parecen tener una tendecia lineal, por lo tanto utilizará una recta de la forma *y = mx + b* para ajustar los datos."
   ]
  },
  {
   "cell_type": "code",
   "execution_count": 14,
   "metadata": {},
   "outputs": [],
   "source": [
    "scaler = StandardScaler().fit(X_train_pca)\n",
    "X_train_pca_scaled = scaler.transform(X_train_pca)"
   ]
  },
  {
   "cell_type": "code",
   "execution_count": 15,
   "metadata": {},
   "outputs": [
    {
     "data": {
      "text/plain": [
       "LinearRegression()"
      ]
     },
     "execution_count": 15,
     "metadata": {},
     "output_type": "execute_result"
    }
   ],
   "source": [
    "linear_regression = LinearRegression()\n",
    "linear_regression.fit(X_train_pca_scaled, y_train)"
   ]
  },
  {
   "cell_type": "markdown",
   "metadata": {},
   "source": [
    "Para evaluar la performance del modelo utilizamos las métricas MSE y R2."
   ]
  },
  {
   "cell_type": "code",
   "execution_count": 16,
   "metadata": {},
   "outputs": [
    {
     "name": "stdout",
     "output_type": "stream",
     "text": [
      "Métricas de entrenamiento:\n",
      "MSE: 11.556105203900962\n",
      "R2: 0.32638119129169696\n"
     ]
    },
    {
     "data": {
      "image/png": "[encoded data removed]",
      "text/plain": [
       "<Figure size 720x432 with 1 Axes>"
      ]
     },
     "metadata": {
      "needs_background": "light"
     },
     "output_type": "display_data"
    }
   ],
   "source": [
    "y_pred = linear_regression.predict(X_train_pca_scaled)\n",
    "\n",
    "metrics = {\"MSE\": mean_squared_error, \"R2\": r2_score}\n",
    "\n",
    "print(\"Métricas de entrenamiento:\")\n",
    "print_metrics(y_train, y_pred, metrics=metrics)\n",
    "\n",
    "plt.figure(figsize=(10, 6))\n",
    "plt.scatter(X_train_pca_scaled, y_train)\n",
    "plt.plot(X_train_pca_scaled, linear_regression.predict(X_train_pca_scaled), color=\"k\")\n",
    "plt.xlabel(\"X Train PCA scaled\")\n",
    "plt.ylabel(\"Y Train\")\n",
    "plt.ylim((0, 150))\n",
    "plt.show()"
   ]
  },
  {
   "cell_type": "code",
   "execution_count": 17,
   "metadata": {},
   "outputs": [
    {
     "name": "stdout",
     "output_type": "stream",
     "text": [
      "Métricas de test:\n",
      "MSE: 19.344100535259876\n",
      "R2: 0.170039564523072\n",
      "\n",
      "Valores reales de y [91.5 88.  89.5 89.  84.  89.  91.5 90.5 89.  88.5 86.5 85.5 94.  87.5\n",
      " 91.5 75.  82.  77.  81.  91.5 84. ]\n",
      "Valores predichos [89.02055489 89.42092305 85.50546306 84.5969603  85.5976398  86.78975916\n",
      " 89.67139675 89.67391887 91.14022823 85.14950199 82.9959582  89.00306877\n",
      " 90.11441581 84.96392024 90.35499582 86.25006014 83.37771852 85.41210652\n",
      " 88.06216577 90.08653595 90.07933079]\n"
     ]
    }
   ],
   "source": [
    "X_test_pca = pca.transform(X_test)\n",
    "X_test_pca_scaled = scaler.transform(X_test_pca)\n",
    "\n",
    "y_pred = linear_regression.predict(X_test_pca_scaled)\n",
    "\n",
    "print(\"Métricas de test:\")\n",
    "print_metrics(y_test, y_pred, metrics=metrics)\n",
    "\n",
    "print(\"\\nValores reales de y\", y_test)\n",
    "print(\"Valores predichos\", y_pred)"
   ]
  },
  {
   "cell_type": "code",
   "execution_count": 18,
   "metadata": {},
   "outputs": [
    {
     "data": {
      "image/png": "[encoded data removed]",
      "text/plain": [
       "<Figure size 720x432 with 1 Axes>"
      ]
     },
     "metadata": {
      "needs_background": "light"
     },
     "output_type": "display_data"
    }
   ],
   "source": [
    "plt.figure(figsize=(10, 6))\n",
    "plt.scatter(X_test_pca_scaled, y_test)\n",
    "plt.plot(X_test_pca_scaled, y_pred, color=\"k\")\n",
    "plt.xlabel(\"X Test PCA scaled\")\n",
    "plt.ylabel(\"Y Test\")\n",
    "plt.ylim((0, 150))\n",
    "plt.show()"
   ]
  },
  {
   "cell_type": "markdown",
   "metadata": {},
   "source": [
    "Como es de esperarse, para los datos de test la performance del modelo es inferior (MSE auemnta y R2 disminuye). Sin embargo, el resultado obtenido es mejor que la media, esto se deduce de que R2 > 0.\n",
    "\n",
    "#### Modelo 2: Regresión Polinómica\n",
    "\n",
    "Probamos predecir la columna *totlngth* utilizando regresión polinómica. Para encontrar el grado óptimo del polinomio para ajustar nuestros datos podemos realizar varios polinomios con distintos grados y ver los resultados de MSE y R2 que se obtienen. Realizamos polinmios de grado 1 a 10."
   ]
  },
  {
   "cell_type": "code",
   "execution_count": 19,
   "metadata": {},
   "outputs": [
    {
     "name": "stdout",
     "output_type": "stream",
     "text": [
      "Se utilizan 6 componentes, los cuales acumulan el 90% de la varianza\n"
     ]
    }
   ],
   "source": [
    "pca = PCA(n_components=0.9, random_state=RANDOM_SEED).fit(X_train)\n",
    "X_train_pca = pca.transform(X_train)\n",
    "print(\n",
    "    f\"Se utilizan {pca.n_components_} componentes, los cuales acumulan el 90% de la varianza\"\n",
    ")"
   ]
  },
  {
   "cell_type": "code",
   "execution_count": 20,
   "metadata": {},
   "outputs": [
    {
     "name": "stdout",
     "output_type": "stream",
     "text": [
      "Degree: 1 | MSE train: 6.612 - R2 train: 0.615\n",
      "Degree: 2 | MSE train: 4.700 - R2 train: 0.726\n",
      "Degree: 3 | MSE train: 0.000 - R2 train: 1.000\n",
      "Degree: 4 | MSE train: 0.000 - R2 train: 1.000\n",
      "Degree: 5 | MSE train: 0.000 - R2 train: 1.000\n",
      "Degree: 6 | MSE train: 0.000 - R2 train: 1.000\n",
      "Degree: 7 | MSE train: 0.000 - R2 train: 1.000\n",
      "Degree: 8 | MSE train: 0.000 - R2 train: 1.000\n",
      "Degree: 9 | MSE train: 0.000 - R2 train: 1.000\n",
      "Degree: 10 | MSE train: 0.000 - R2 train: 1.000\n"
     ]
    },
    {
     "data": {
      "image/png": "[encoded data removed]",
      "text/plain": [
       "<Figure size 720x432 with 1 Axes>"
      ]
     },
     "metadata": {
      "needs_background": "light"
     },
     "output_type": "display_data"
    }
   ],
   "source": [
    "def evauluate_polinomials(\n",
    "    n_degrees, X_train, y_train, X_test=None, y_test=None, verbose=True\n",
    "):\n",
    "    \"\"\"\n",
    "    Se evalua la performance de los polinomio de grado 1 a n_degrees\n",
    "    \"\"\"\n",
    "    degrees = [i for i in range(1, n_degrees + 1)]\n",
    "    mse_train_list = []\n",
    "    r2_train_list = []\n",
    "    mse_test_list = []\n",
    "    r2_test_list = []\n",
    "    has_test = X_test is not None and y_test is not None\n",
    "\n",
    "    for degree in degrees:\n",
    "        poly = PolynomialFeatures(degree=degree)\n",
    "        X_poly = poly.fit_transform(X_train)\n",
    "        linear_regression = LinearRegression().fit(X_poly, y_train)\n",
    "        y_pred = linear_regression.predict(X_poly)\n",
    "        mse_train_list.append(mean_squared_error(y_train, y_pred))\n",
    "        r2_train_list.append(r2_score(y_train, y_pred))\n",
    "\n",
    "        if has_test:\n",
    "            X_test_poly = poly.transform(X_test)\n",
    "            y_pred = linear_regression.predict(X_test_poly)\n",
    "            mse_test_list.append(mean_squared_error(y_test, y_pred))\n",
    "            r2_test_list.append(r2_score(y_test, y_pred))\n",
    "\n",
    "        if verbose:\n",
    "            message = f\"Degree: {degree} | MSE train: {mse_train_list[-1]:.3f} - R2 train: {r2_train_list[-1]:.3f}\"\n",
    "            if has_test:\n",
    "                message += f\" | MSE test: {mse_test_list[-1]:.3f} - R2 test: {r2_test_list[-1]:.3f}\"\n",
    "            print(message)\n",
    "\n",
    "    if has_test:\n",
    "        return mse_train_list, r2_train_list, mse_test_list, r2_test_list\n",
    "    else:\n",
    "        return mse_train_list, r2_train_list\n",
    "\n",
    "\n",
    "n_degrees = 10\n",
    "degrees = [i for i in range(1, n_degrees + 1)]\n",
    "mse_list, r2_list = evauluate_polinomials(n_degrees, X_train_pca, y_train)\n",
    "\n",
    "plt.figure(figsize=(10, 6))\n",
    "plt.scatter(degrees, mse_list)\n",
    "plt.scatter(degrees, r2_list)\n",
    "plt.plot(degrees, mse_list, label=\"MSE\")\n",
    "plt.plot(degrees, r2_list, label=\"R2\")\n",
    "plt.xlabel(\"Grado de polinomio\")\n",
    "plt.ylabel(\"Valor de la métrica\")\n",
    "plt.legend()\n",
    "plt.show()"
   ]
  },
  {
   "cell_type": "markdown",
   "metadata": {},
   "source": [
    "Pareciera ser que a medida que crece el grado del polinomio, el modelo mejora, ya que el valor de MSE disminuye y el de R2 aumenta. Para comprobar si esto es cierto realizamos la misma prueba con el set de entrenamiento."
   ]
  },
  {
   "cell_type": "code",
   "execution_count": 21,
   "metadata": {},
   "outputs": [
    {
     "name": "stdout",
     "output_type": "stream",
     "text": [
      "Degree: 1 | MSE train: 6.612 - R2 train: 0.615 | MSE test: 8.612 - R2 test: 0.630\n",
      "Degree: 2 | MSE train: 4.700 - R2 train: 0.726 | MSE test: 19.952 - R2 test: 0.144\n",
      "Degree: 3 | MSE train: 0.000 - R2 train: 1.000 | MSE test: 260681.133 - R2 test: -11183.548\n",
      "Degree: 4 | MSE train: 0.000 - R2 train: 1.000 | MSE test: 871.295 - R2 test: -36.383\n",
      "Degree: 5 | MSE train: 0.000 - R2 train: 1.000 | MSE test: 7152.771 - R2 test: -305.890\n",
      "Degree: 6 | MSE train: 0.000 - R2 train: 1.000 | MSE test: 37854.108 - R2 test: -1623.134\n",
      "Degree: 7 | MSE train: 0.000 - R2 train: 1.000 | MSE test: 206425.126 - R2 test: -8855.689\n",
      "Degree: 8 | MSE train: 0.000 - R2 train: 1.000 | MSE test: 2820580.217 - R2 test: -121016.257\n",
      "Degree: 9 | MSE train: 0.000 - R2 train: 1.000 | MSE test: 6021188.224 - R2 test: -258338.642\n",
      "Degree: 10 | MSE train: 0.000 - R2 train: 1.000 | MSE test: 313000467.069 - R2 test: -13429313.197\n"
     ]
    }
   ],
   "source": [
    "X_test_pca = pca.transform(X_test)\n",
    "mse_train_list, r2_train_list, mse_test_list, r2_test_list = evauluate_polinomials(\n",
    "    n_degrees, X_train_pca, y_train, X_test_pca, y_test\n",
    ")"
   ]
  },
  {
   "cell_type": "markdown",
   "metadata": {},
   "source": [
    "Al evaluar los modelos sobre los sets de test podemos ver que la suposición de que el modelo mejora al aumentar del grado del polinomio es incorrecta. Todo lo contrario, a medida que el grado es mayor, el modelo empeora en el conjunto de test. Es evidente que hay overfitting para el conjunto de entrenamiento, por esto es que la performance del modelo aumenta con el grado. Como conclusión se decide optar por utilizar un polinomio de grado 1. "
   ]
  },
  {
   "cell_type": "code",
   "execution_count": 22,
   "metadata": {},
   "outputs": [
    {
     "name": "stdout",
     "output_type": "stream",
     "text": [
      "Valores reales de y [91.5 88.  89.5 89.  84.  89.  91.5 90.5 89.  88.5 86.5 85.5 94.  87.5\n",
      " 91.5 75.  82.  77.  81.  91.5 84. ]\n",
      "Valores predichos [93.60184273 87.85074325 87.58932956 84.37440907 85.39132148 88.7796644\n",
      " 87.28450554 88.35541085 89.32923659 83.72679442 82.50798001 87.0619628\n",
      " 90.85089986 86.05961669 89.27461227 79.73275989 80.36998181 79.32944777\n",
      " 85.10027072 90.11701477 88.42708917]\n"
     ]
    }
   ],
   "source": [
    "poly = PolynomialFeatures(degree=1)\n",
    "X_train_poly = poly.fit_transform(X_train_pca)\n",
    "linear_regression.fit(X_train_poly, y_train)\n",
    "\n",
    "X_test_pca = pca.transform(X_test)\n",
    "X_test_poly = poly.transform(X_test_pca)\n",
    "\n",
    "y_pred = linear_regression.predict(X_test_poly)\n",
    "\n",
    "print(\"Valores reales de y\", y_test)\n",
    "print(\"Valores predichos\", y_pred)"
   ]
  },
  {
   "cell_type": "markdown",
   "metadata": {},
   "source": [
    "Como conclusión para este segundo punto se puede decir que el mejor modelo a utilizar es una regresión polinómica de grado 1, que no es mas que una regresión lineal."
   ]
  }
 ],
 "metadata": {
  "kernelspec": {
   "display_name": "Python 3 (ipykernel)",
   "language": "python",
   "name": "python3"
  },
  "language_info": {
   "codemirror_mode": {
    "name": "ipython",
    "version": 3
   },
   "file_extension": ".py",
   "mimetype": "text/x-python",
   "name": "python",
   "nbconvert_exporter": "python",
   "pygments_lexer": "ipython3",
   "version": "3.8.10"
  },
  "orig_nbformat": 4
 },
 "nbformat": 4,
 "nbformat_minor": 2
}
