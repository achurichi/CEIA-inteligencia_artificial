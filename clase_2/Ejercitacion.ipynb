{
 "cells": [
  {
   "cell_type": "code",
   "execution_count": null,
   "metadata": {},
   "outputs": [],
   "source": [
    "# Use black formatter\n",
    "%load_ext lab_black\n",
    "\n",
    "import numpy as np"
   ]
  },
  {
   "cell_type": "markdown",
   "metadata": {},
   "source": [
    "#### Ejercicio #0: Datasets sintéticos y K-means\n",
    "Consolidar los ejercicios realizados de forma grupal en clase, siguiendo las indicaciones\n",
    "del [notebook](K-mean%20en%20NumPy.ipynb)."
   ]
  },
  {
   "cell_type": "code",
   "execution_count": null,
   "metadata": {},
   "outputs": [],
   "source": []
  },
  {
   "cell_type": "markdown",
   "metadata": {},
   "source": [
    "#### Ejecicio #1:    Dado un dataset X, calcular PCA para reducir dimensión.\n",
    "Siguiendo los pasos vistos en la teoría y utilizando el [notebook](PCA%20en%20NumPy.ipynb) de referencia, se requiere utilizar numpy para calcular PCA del dataset de entrada X, utilizando la componente más importantes.\n",
    "\n",
    "X = np.array( [ [0.8, 0.7] , [0.1, -0.1] ] )\n",
    "\n",
    "Al finalizar la implementación en numpy, corroborar obtener los mismos resultados que utilizando el código de la librería scikit-learn. Escribir un test para comparar las matrices.\n",
    "\n",
    "_Todas las operaciones debe ser vectorizadas._"
   ]
  },
  {
   "cell_type": "code",
   "execution_count": null,
   "metadata": {},
   "outputs": [],
   "source": []
  },
  {
   "cell_type": "markdown",
   "metadata": {},
   "source": [
    "#### Ejercicio #2: \n",
    "Siguiendo los ejemplos vistos en clase sobre los datasets de Human Activity Recognition y Fashion MNIST, realizar las siguientes consignas en el \n",
    "[notebook](PCA%20-%20MNIST.ipynb):\n",
    "\n",
    "1. Aplicar PCA sobre el dataset para poder explicar el 90% de la varianza. ¿Cuántos componentes se requieren?\n",
    "2. Graficar un scree plot (varianza contemplada en función del número de componentes considerados)\n",
    "3. Visualizar gráficamente los primeros 5 componentes ¿Qué conclusiones se puede sacar de cada componente? [OPCIONAL].\n",
    "4. Visualizar la imagen original vs. la reconstruida con los  𝑚  componentes del punto 1.\n",
    "5. Graficar una matriz de correlación del dataset reducido.\n",
    "6. Graficar los clusters de dígitos en 2 y 3 dimensiones usando los componentes obtenidos en PCA.\n",
    "7. Aplicar K-means para clusterizar los dígitos ¿Cómo son los resultados?\n",
    "8. Realizar un gráfico de inercia para obtener el número óptimo de clusters  𝑘 .\n",
    "9. Analizar visualmente los límites del cluster de algún dígito y \"generar\" artificialmente el dígito dándole valores a los primeros dos componentes de PCA."
   ]
  },
  {
   "cell_type": "code",
   "execution_count": null,
   "metadata": {},
   "outputs": [],
   "source": []
  }
 ],
 "metadata": {
  "kernelspec": {
   "display_name": "Python 3 (ipykernel)",
   "language": "python",
   "name": "python3"
  },
  "language_info": {
   "codemirror_mode": {
    "name": "ipython",
    "version": 3
   },
   "file_extension": ".py",
   "mimetype": "text/x-python",
   "name": "python",
   "nbconvert_exporter": "python",
   "pygments_lexer": "ipython3",
   "version": "3.8.10"
  }
 },
 "nbformat": 4,
 "nbformat_minor": 2
}
